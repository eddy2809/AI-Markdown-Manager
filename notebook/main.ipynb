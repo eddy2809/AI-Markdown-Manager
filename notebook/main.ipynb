{
 "cells": [
  {
   "cell_type": "code",
   "execution_count": 1,
   "id": "c16c7ef0",
   "metadata": {},
   "outputs": [],
   "source": [
    "from src.report_manager import ReportManager\n",
    "manager = ReportManager()"
   ]
  },
  {
   "cell_type": "code",
   "execution_count": 2,
   "id": "341b5457",
   "metadata": {},
   "outputs": [
    {
     "name": "stdout",
     "output_type": "stream",
     "text": [
      "--- NODO: Planner ---\n",
      "Piano generato: [{'tool_name': 'explain_capabilities', 'args': {'conversation': 'Ciao! Cosa sei in grado di fare?'}}]\n",
      "--- NODO: Executor ---\n",
      "Esecuzione task: explain_capabilities con argomenti: {'conversation': 'Ciao! Cosa sei in grado di fare?'}\n",
      "Ciao! Sono un assistente AI specializzato nella costruzione di documenti in formato Markdown. Ecco cosa posso fare per te:\n",
      "\n",
      "- Creare un nuovo documento o aprire un documento esistente per la modifica.\n",
      "- Aggiungere una nuova sezione al documento.\n",
      "- Eliminare una sezione esistente.\n",
      "- Rinominare una sezione.\n",
      "- Modificare il testo di una sezione.\n",
      "- Visualizzare il contenuto di una specifica sezione.\n",
      "- Visualizzare tutte le sezioni del documento.\n",
      "- Salvare il file.\n",
      "\n",
      "Se hai bisogno di aiuto con uno di questi compiti, fammi sapere!\n"
     ]
    },
    {
     "data": {
      "text/plain": [
       "'Ciao! Sono un assistente AI specializzato nella costruzione di documenti in formato Markdown. Ecco cosa posso fare per te:\\n\\n- Creare un nuovo documento o aprire un documento esistente per la modifica.\\n- Aggiungere una nuova sezione al documento.\\n- Eliminare una sezione esistente.\\n- Rinominare una sezione.\\n- Modificare il testo di una sezione.\\n- Visualizzare il contenuto di una specifica sezione.\\n- Visualizzare tutte le sezioni del documento.\\n- Salvare il file.\\n\\nSe hai bisogno di aiuto con uno di questi compiti, fammi sapere!'"
      ]
     },
     "execution_count": 2,
     "metadata": {},
     "output_type": "execute_result"
    }
   ],
   "source": [
    "manager.run(\"Ciao! Cosa sei in grado di fare?\")\n",
    "manager.get_answer()"
   ]
  },
  {
   "cell_type": "code",
   "execution_count": 3,
   "id": "888d0979",
   "metadata": {},
   "outputs": [
    {
     "name": "stdout",
     "output_type": "stream",
     "text": [
      "--- NODO: Planner ---\n",
      "Piano generato: [{'tool_name': 'modify_document', 'args': {'command': 'crea una sezione Introduzione con il seguente testo: Ciao a tutti! Sono AI markdown manager, pronto ad assisterti in tutto il mondo markdown!'}}]\n",
      "--- NODO: Executor ---\n",
      "Esecuzione task: modify_document con argomenti: {'command': 'crea una sezione Introduzione con il seguente testo: Ciao a tutti! Sono AI markdown manager, pronto ad assisterti in tutto il mondo markdown!'}\n",
      "# Introduzione\n",
      "\n",
      "Ciao a tutti! Sono AI Markdown Manager, pronto ad assisterti in tutto il mondo Markdown!\n"
     ]
    }
   ],
   "source": [
    "manager.run(\"Crea una sezione Introduzione con il seguente testo: Ciao a tutti! Sono AI markdown manager, pronto ad assisterti in tutto il mondo markdown!\")"
   ]
  },
  {
   "cell_type": "code",
   "execution_count": null,
   "id": "4c0bff16",
   "metadata": {},
   "outputs": [],
   "source": []
  }
 ],
 "metadata": {
  "kernelspec": {
   "display_name": "ai-report-manager-5wJZIrO_-py3.12",
   "language": "python",
   "name": "python3"
  },
  "language_info": {
   "codemirror_mode": {
    "name": "ipython",
    "version": 3
   },
   "file_extension": ".py",
   "mimetype": "text/x-python",
   "name": "python",
   "nbconvert_exporter": "python",
   "pygments_lexer": "ipython3",
   "version": "3.12.5"
  }
 },
 "nbformat": 4,
 "nbformat_minor": 5
}
