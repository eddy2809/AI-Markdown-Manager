{
 "cells": [
  {
   "cell_type": "code",
   "execution_count": null,
   "id": "7fdefb7c",
   "metadata": {},
   "outputs": [
    {
     "data": {
      "text/plain": [
       "''"
      ]
     },
     "execution_count": 2,
     "metadata": {},
     "output_type": "execute_result"
    }
   ],
   "source": [
    "from src.report_manager import ReportManager\n",
    "manager = ReportManager()\n",
    "comando_utente = \"Crea un report con questo testo: 'La loss function è un indicatore chiave.' e poi modifica la sezione aggiungendo la frase 'Viene usata per ottimizzare il modello'. Salva il file con nome 'test.md'\"\n",
    "manager.run(comando_utente)\n",
    "manager.run('Adesso aggiungi la frase \"just good\"')\n",
    "\n",
    "\n",
    "manager.get_report()"
   ]
  },
  {
   "cell_type": "code",
   "execution_count": null,
   "id": "73fbb85c",
   "metadata": {},
   "outputs": [],
   "source": []
  }
 ],
 "metadata": {
  "kernelspec": {
   "display_name": "ai-report-manager-5wJZIrO_-py3.12",
   "language": "python",
   "name": "python3"
  },
  "language_info": {
   "codemirror_mode": {
    "name": "ipython",
    "version": 3
   },
   "file_extension": ".py",
   "mimetype": "text/x-python",
   "name": "python",
   "nbconvert_exporter": "python",
   "pygments_lexer": "ipython3",
   "version": "3.12.5"
  }
 },
 "nbformat": 4,
 "nbformat_minor": 5
}
