{
 "cells": [
  {
   "cell_type": "code",
   "execution_count": 1,
   "id": "c16c7ef0",
   "metadata": {},
   "outputs": [
    {
     "name": "stdout",
     "output_type": "stream",
     "text": [
      "--- NODO: Planner ---\n",
      "Piano generato: [{'tool_name': 'explain_capabilities', 'args': {'conversation': 'Ciao! Cosa sai fare?'}}]\n",
      "--- NODO: Executor ---\n",
      "Esecuzione task: explain_capabilities con argomenti: {'conversation': 'Ciao! Cosa sai fare?'}\n",
      "Posso analizzare documenti tecnici in formato Markdown e recuperare informazioni specifiche per te. Posso elencare tutte le sezioni di un documento o mostrare il contenuto di una o più sezioni specifiche. Dimmi pure cosa ti serve!\n"
     ]
    }
   ],
   "source": [
    "from src.report_manager import ReportManager\n",
    "manager = ReportManager()\n",
    "\n",
    "manager.run(\"Ciao! Cosa sai fare?\")"
   ]
  },
  {
   "cell_type": "code",
   "execution_count": 7,
   "id": "dbf0b91f",
   "metadata": {},
   "outputs": [
    {
     "data": {
      "text/plain": [
       "'\\nCiao!!'"
      ]
     },
     "execution_count": 7,
     "metadata": {},
     "output_type": "execute_result"
    }
   ],
   "source": [
    "\"\".join([\"\\n\", \"Ciao!!\"])"
   ]
  },
  {
   "cell_type": "code",
   "execution_count": 4,
   "id": "614d1e6a",
   "metadata": {},
   "outputs": [
    {
     "name": "stdout",
     "output_type": "stream",
     "text": [
      "--- NODO: Planner ---\n",
      "Piano generato: [{'tool_name': 'organize_text', 'args': {'documento_attuale': '', 'text_to_add': \"Il problema dell'oggetto detection si può affrontare mediante due principali strategie: one-stage e two-stage.\"}}]\n",
      "--- NODO: Executor ---\n",
      "Esecuzione task: organize_text con argomenti: {'documento_attuale': '', 'text_to_add': \"Il problema dell'oggetto detection si può affrontare mediante due principali strategie: one-stage e two-stage.\"}\n",
      "# Strategie di Oggetto Detection\n",
      "\n",
      "Il problema dell'oggetto detection si può affrontare mediante due principali strategie: one-stage e two-stage.\n"
     ]
    }
   ],
   "source": [
    "from src.report_manager import ReportManager\n",
    "manager = ReportManager()\n",
    "comando_utente = \"Il problema dell'oggetto detection si può affrontare mediante due principali strategie: one-stage e two-stage.\"\n",
    "manager.run(comando_utente)"
   ]
  },
  {
   "cell_type": "code",
   "execution_count": 5,
   "id": "90eb26cf",
   "metadata": {},
   "outputs": [
    {
     "data": {
      "text/plain": [
       "\"# Strategie di Oggetto Detection\\n\\nIl problema dell'oggetto detection si può affrontare mediante due principali strategie: one-stage e two-stage.\""
      ]
     },
     "execution_count": 5,
     "metadata": {},
     "output_type": "execute_result"
    }
   ],
   "source": [
    "manager.get_md_document()"
   ]
  },
  {
   "cell_type": "code",
   "execution_count": 3,
   "id": "78c08c3e",
   "metadata": {},
   "outputs": [
    {
     "name": "stdout",
     "output_type": "stream",
     "text": [
      "--- NODO: Planner ---\n",
      "Piano generato: [{'tool_name': 'organize_text', 'args': {'documento_attuale': '', 'text_to_add': \"Nelle architetture one-stage, una singola rete neurale predice sia i bounding box che le probabilità delle classi, direttamente dall'immagine in una sola valutazione. In quelle two-stage, dapprima si generano delle 'region proposals', ovvero delle regioni candidate a contenere oggetti, indipendentemente dalle classi di appartenenza. Successivamente, a partire da queste proposte, si effettua la classificazione e si affinano le coordinate dei bounding box. In generale, le architetture one-stage risultano molto più veloci ma meno precise. Al contrario, le architetture two-stage sono computazionalmente pesanti ma offrono migliori risultati.\"}}]\n",
      "--- NODO: Executor ---\n",
      "Esecuzione task: organize_text con argomenti: {'documento_attuale': '', 'text_to_add': \"Nelle architetture one-stage, una singola rete neurale predice sia i bounding box che le probabilità delle classi, direttamente dall'immagine in una sola valutazione. In quelle two-stage, dapprima si generano delle 'region proposals', ovvero delle regioni candidate a contenere oggetti, indipendentemente dalle classi di appartenenza. Successivamente, a partire da queste proposte, si effettua la classificazione e si affinano le coordinate dei bounding box. In generale, le architetture one-stage risultano molto più veloci ma meno precise. Al contrario, le architetture two-stage sono computazionalmente pesanti ma offrono migliori risultati.\"}\n",
      "# Strategie per l'oggetto detection\n",
      "\n",
      "Il problema dell'oggetto detection si può affrontare mediante due principali strategie: one-stage e two-stage.\n",
      "\n",
      "# Architetture One-Stage e Two-Stage\n",
      "\n",
      "Nelle architetture one-stage, una singola rete neurale predice sia i bounding box che le probabilità delle classi, direttamente dall'immagine in una sola valutazione. In quelle two-stage, dapprima si generano delle \"region proposals\", ovvero delle regioni candidate a contenere oggetti, indipendentemente dalle classi di appartenenza. Successivamente, a partire da queste proposte, si effettua la classificazione e si affinano le coordinate dei bounding box. In generale, le architetture one-stage risultano molto più veloci ma meno precise. Al contrario, le architetture two-stage sono computazionalmente pesanti ma offrono migliori risultati.\n"
     ]
    }
   ],
   "source": [
    "comando_utente = \"\"\"Nelle architetture one-stage, una singola rete neurale predice sia i bounding box che le probabilità delle classi, direttamente dall'immagine in una sola valutazione. In quelle two-stage, dapprima si generano delle \"region proposals\", ovvero delle regioni candidate a contenere oggetti, indipendentemente dalle classi di appartenenza. Successivamente, a partire da queste proposte, si effettua la classificazione e si affinano le coordinate dei bounding box. In generale, le architetture one-stage risultano molto più veloci ma meno precise. Al contrario, le architetture two-stage sono computazionalmente pesanti ma offrono migliori risultati.\"\"\"\n",
    "manager.run(comando_utente)"
   ]
  },
  {
   "cell_type": "code",
   "execution_count": 4,
   "id": "dc9a8a88",
   "metadata": {},
   "outputs": [
    {
     "data": {
      "text/plain": [
       "'# Strategie per l\\'oggetto detection\\n\\nIl problema dell\\'oggetto detection si può affrontare mediante due principali strategie: one-stage e two-stage.\\n\\n# Architetture One-Stage e Two-Stage\\n\\nNelle architetture one-stage, una singola rete neurale predice sia i bounding box che le probabilità delle classi, direttamente dall\\'immagine in una sola valutazione. In quelle two-stage, dapprima si generano delle \"region proposals\", ovvero delle regioni candidate a contenere oggetti, indipendentemente dalle classi di appartenenza. Successivamente, a partire da queste proposte, si effettua la classificazione e si affinano le coordinate dei bounding box. In generale, le architetture one-stage risultano molto più veloci ma meno precise. Al contrario, le architetture two-stage sono computazionalmente pesanti ma offrono migliori risultati.'"
      ]
     },
     "execution_count": 4,
     "metadata": {},
     "output_type": "execute_result"
    }
   ],
   "source": [
    "manager.get_md_document()"
   ]
  },
  {
   "cell_type": "code",
   "execution_count": 5,
   "id": "c0f07846",
   "metadata": {},
   "outputs": [
    {
     "name": "stdout",
     "output_type": "stream",
     "text": [
      "--- NODO: Planner ---\n",
      "Piano generato: [{'tool_name': 'modifica_documento', 'args': {'comando': \"aggiungi la sezione 'Conclusione' con testo: Questo conclude il nostro trattato sul problema dell'oggetto detection.\"}}]\n",
      "--- NODO: Executor ---\n",
      "Esecuzione task: modifica_documento con argomenti: {'comando': \"aggiungi la sezione 'Conclusione' con testo: Questo conclude il nostro trattato sul problema dell'oggetto detection.\"}\n",
      "# Strategie per l'oggetto detection\n",
      "\n",
      "Il problema dell'oggetto detection si può affrontare mediante due principali strategie: one-stage e two-stage.\n",
      "\n",
      "# Architetture One-Stage e Two-Stage\n",
      "\n",
      "Nelle architetture one-stage, una singola rete neurale predice sia i bounding box che le probabilità delle classi, direttamente dall'immagine in una sola valutazione. In quelle two-stage, dapprima si generano delle \"region proposals\", ovvero delle regioni candidate a contenere oggetti, indipendentemente dalle classi di appartenenza. Successivamente, a partire da queste proposte, si effettua la classificazione e si affinano le coordinate dei bounding box. In generale, le architetture one-stage risultano molto più veloci ma meno precise. Al contrario, le architetture two-stage sono computazionalmente pesanti ma offrono migliori risultati.\n",
      "\n",
      "# Conclusione\n",
      "\n",
      "Questo conclude il nostro trattato sul problema dell'oggetto detection.\n"
     ]
    }
   ],
   "source": [
    "comando_utente = \"Aggiungi la sezione 'Conclusione' con testo: Questo conclude il nostro trattato sul problema dell'oggetto detection.\"\n",
    "manager.run(comando_utente)"
   ]
  },
  {
   "cell_type": "code",
   "execution_count": 6,
   "id": "29f2a857",
   "metadata": {},
   "outputs": [
    {
     "data": {
      "text/plain": [
       "'# Strategie per l\\'oggetto detection\\n\\nIl problema dell\\'oggetto detection si può affrontare mediante due principali strategie: one-stage e two-stage.\\n\\n# Architetture One-Stage e Two-Stage\\n\\nNelle architetture one-stage, una singola rete neurale predice sia i bounding box che le probabilità delle classi, direttamente dall\\'immagine in una sola valutazione. In quelle two-stage, dapprima si generano delle \"region proposals\", ovvero delle regioni candidate a contenere oggetti, indipendentemente dalle classi di appartenenza. Successivamente, a partire da queste proposte, si effettua la classificazione e si affinano le coordinate dei bounding box. In generale, le architetture one-stage risultano molto più veloci ma meno precise. Al contrario, le architetture two-stage sono computazionalmente pesanti ma offrono migliori risultati.\\n\\n# Conclusione\\n\\nQuesto conclude il nostro trattato sul problema dell\\'oggetto detection.'"
      ]
     },
     "execution_count": 6,
     "metadata": {},
     "output_type": "execute_result"
    }
   ],
   "source": [
    "manager.get_md_document()"
   ]
  },
  {
   "cell_type": "code",
   "execution_count": 7,
   "id": "6f69a038",
   "metadata": {},
   "outputs": [
    {
     "name": "stdout",
     "output_type": "stream",
     "text": [
      "--- NODO: Planner ---\n",
      "Piano generato: [{'tool_name': 'salva_file', 'args': {'filename': 'finale_report.md'}}]\n",
      "--- NODO: Executor ---\n",
      "Esecuzione task: salva_file con argomenti: {'filename': 'finale_report.md'}\n",
      "File 'finale_report.md' salvato con successo.\n"
     ]
    }
   ],
   "source": [
    "manager.run(\"Adesso salva il file con nome 'finale_report.md'\")"
   ]
  },
  {
   "cell_type": "code",
   "execution_count": 8,
   "id": "447ef252",
   "metadata": {},
   "outputs": [
    {
     "name": "stdout",
     "output_type": "stream",
     "text": [
      "--- NODO: Planner ---\n",
      "Piano generato: [{'tool_name': 'recupera_informazioni', 'args': {'query': \"mostrami la sezione 'Conclusione'\", 'documento_attuale': ''}}]\n",
      "--- NODO: Executor ---\n",
      "Esecuzione task: recupera_informazioni con argomenti: {'query': \"mostrami la sezione 'Conclusione'\", 'documento_attuale': ''}\n",
      "# Conclusione\n",
      "\n",
      "Questo conclude il nostro trattato sul problema dell'oggetto detection.\n"
     ]
    }
   ],
   "source": [
    "manager.run(\"Dimmi cosa c'è scritto nella sezione 'Conclusione'\")"
   ]
  },
  {
   "cell_type": "code",
   "execution_count": 9,
   "id": "4f29f1d4",
   "metadata": {},
   "outputs": [
    {
     "data": {
      "text/plain": [
       "'# Strategie per l\\'oggetto detection\\n\\nIl problema dell\\'oggetto detection si può affrontare mediante due principali strategie: one-stage e two-stage.\\n\\n# Architetture One-Stage e Two-Stage\\n\\nNelle architetture one-stage, una singola rete neurale predice sia i bounding box che le probabilità delle classi, direttamente dall\\'immagine in una sola valutazione. In quelle two-stage, dapprima si generano delle \"region proposals\", ovvero delle regioni candidate a contenere oggetti, indipendentemente dalle classi di appartenenza. Successivamente, a partire da queste proposte, si effettua la classificazione e si affinano le coordinate dei bounding box. In generale, le architetture one-stage risultano molto più veloci ma meno precise. Al contrario, le architetture two-stage sono computazionalmente pesanti ma offrono migliori risultati.\\n\\n# Conclusione\\n\\nQuesto conclude il nostro trattato sul problema dell\\'oggetto detection.'"
      ]
     },
     "execution_count": 9,
     "metadata": {},
     "output_type": "execute_result"
    }
   ],
   "source": [
    "manager.get_md_document()"
   ]
  },
  {
   "cell_type": "code",
   "execution_count": 10,
   "id": "4fab3baa",
   "metadata": {},
   "outputs": [
    {
     "name": "stdout",
     "output_type": "stream",
     "text": [
      "--- NODO: Planner ---\n",
      "Piano generato: [{'tool_name': 'recupera_informazioni', 'args': {'query': 'mostrami il documento attuale', 'documento_attuale': ''}}]\n",
      "--- NODO: Executor ---\n",
      "Esecuzione task: recupera_informazioni con argomenti: {'query': 'mostrami il documento attuale', 'documento_attuale': ''}\n",
      "# Strategie per l'oggetto detection\n",
      "\n",
      "Il problema dell'oggetto detection si può affrontare mediante due principali strategie: one-stage e two-stage.\n",
      "\n",
      "# Architetture One-Stage e Two-Stage\n",
      "\n",
      "Nelle architetture one-stage, una singola rete neurale predice sia i bounding box che le probabilità delle classi, direttamente dall'immagine in una sola valutazione. In quelle two-stage, dapprima si generano delle \"region proposals\", ovvero delle regioni candidate a contenere oggetti, indipendentemente dalle classi di appartenenza. Successivamente, a partire da queste proposte, si effettua la classificazione e si affinano le coordinate dei bounding box. In generale, le architetture one-stage risultano molto più veloci ma meno precise. Al contrario, le architetture two-stage sono computazionalmente pesanti ma offrono migliori risultati.\n",
      "\n",
      "# Conclusione\n",
      "\n",
      "Questo conclude il nostro trattato sul problema dell'oggetto detection.\n"
     ]
    }
   ],
   "source": [
    "manager.run(\"Dimmi cosa ho scritto finora\")"
   ]
  },
  {
   "cell_type": "code",
   "execution_count": 11,
   "id": "6f1747a7",
   "metadata": {},
   "outputs": [
    {
     "name": "stdout",
     "output_type": "stream",
     "text": [
      "--- NODO: Planner ---\n",
      "Piano generato: [{'tool_name': 'modifica_documento', 'args': {'comando': \"aggiungi la sezione 'Introduzione', prima di tutte le altre, al momento vuota\"}}]\n",
      "--- NODO: Executor ---\n",
      "Esecuzione task: modifica_documento con argomenti: {'comando': \"aggiungi la sezione 'Introduzione', prima di tutte le altre, al momento vuota\"}\n",
      "# Strategie per l'oggetto detection\n",
      "\n",
      "Il problema dell'oggetto detection si può affrontare mediante due principali strategie: one-stage e two-stage.\n",
      "\n",
      "# Introduzione\n",
      "\n",
      "# Architetture One-Stage e Two-Stage\n",
      "\n",
      "Nelle architetture one-stage, una singola rete neurale predice sia i bounding box che le probabilità delle classi, direttamente dall'immagine in una sola valutazione. In quelle two-stage, dapprima si generano delle \"region proposals\", ovvero delle regioni candidate a contenere oggetti, indipendentemente dalle classi di appartenenza. Successivamente, a partire da queste proposte, si effettua la classificazione e si affinano le coordinate dei bounding box. In generale, le architetture one-stage risultano molto più veloci ma meno precise. Al contrario, le architetture two-stage sono computazionalmente pesanti ma offrono migliori risultati.\n",
      "\n",
      "# Conclusione\n",
      "\n",
      "Questo conclude il nostro trattato sul problema dell'oggetto detection.\n"
     ]
    }
   ],
   "source": [
    "manager.run(\"Aggiungi la sezione 'Introduzione', prima di tutte le altre, al momento vuota\")"
   ]
  },
  {
   "cell_type": "code",
   "execution_count": 12,
   "id": "4642508f",
   "metadata": {},
   "outputs": [
    {
     "name": "stdout",
     "output_type": "stream",
     "text": [
      "--- NODO: Planner ---\n",
      "Piano generato: [{'tool_name': 'modifica_documento', 'args': {'comando': \"aggiungi il testo 'Qquestè è l'introducione al dfocumento' nella sezione Introduzione\"}}]\n",
      "--- NODO: Executor ---\n",
      "Esecuzione task: modifica_documento con argomenti: {'comando': \"aggiungi il testo 'Qquestè è l'introducione al dfocumento' nella sezione Introduzione\"}\n",
      "# Strategie per l'oggetto detection\n",
      "\n",
      "Il problema dell'oggetto detection si può affrontare mediante due principali strategie: one-stage e two-stage.\n",
      "\n",
      "# Introduzione\n",
      "Questo è l'introduzione al documento\n",
      "\n",
      "# Architetture One-Stage e Two-Stage\n",
      "\n",
      "Nelle architetture one-stage, una singola rete neurale predice sia i bounding box che le probabilità delle classi, direttamente dall'immagine in una sola valutazione. In quelle two-stage, dapprima si generano delle \"region proposals\", ovvero delle regioni candidate a contenere oggetti, indipendentemente dalle classi di appartenenza. Successivamente, a partire da queste proposte, si effettua la classificazione e si affinano le coordinate dei bounding box. In generale, le architetture one-stage risultano molto più veloci ma meno precise. Al contrario, le architetture two-stage sono computazionalmente pesanti ma offrono migliori risultati.\n",
      "\n",
      "# Conclusione\n",
      "\n",
      "Questo conclude il nostro trattato sul problema dell'oggetto detection.\n"
     ]
    }
   ],
   "source": [
    "manager.run(\"Dentro la sezione Introduzione, aggiungi il seguente testo: 'Qquestè è l'introducione al dfocumento'\")"
   ]
  },
  {
   "cell_type": "code",
   "execution_count": null,
   "id": "3f57ca0f",
   "metadata": {},
   "outputs": [],
   "source": []
  }
 ],
 "metadata": {
  "kernelspec": {
   "display_name": "ai-report-manager-5wJZIrO_-py3.12",
   "language": "python",
   "name": "python3"
  },
  "language_info": {
   "codemirror_mode": {
    "name": "ipython",
    "version": 3
   },
   "file_extension": ".py",
   "mimetype": "text/x-python",
   "name": "python",
   "nbconvert_exporter": "python",
   "pygments_lexer": "ipython3",
   "version": "3.12.5"
  }
 },
 "nbformat": 4,
 "nbformat_minor": 5
}
