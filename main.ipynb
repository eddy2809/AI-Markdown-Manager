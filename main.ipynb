{
 "cells": [
  {
   "cell_type": "code",
   "execution_count": 1,
   "id": "7fdefb7c",
   "metadata": {},
   "outputs": [],
   "source": [
    "from src.report_manager import ReportManager"
   ]
  },
  {
   "cell_type": "code",
   "execution_count": 2,
   "id": "a0e36f8f",
   "metadata": {},
   "outputs": [],
   "source": [
    "manager = ReportManager()"
   ]
  },
  {
   "cell_type": "code",
   "execution_count": 3,
   "id": "6faec16f",
   "metadata": {},
   "outputs": [],
   "source": [
    "comando_utente = \"Crea un report con questo testo: 'La loss function è un indicatore chiave.' e poi modifica la sezione aggiungendo la frase 'Viene usata per ottimizzare il modello'. Salva il file con nome 'test.md'\""
   ]
  },
  {
   "cell_type": "code",
   "execution_count": 4,
   "id": "e060604c",
   "metadata": {},
   "outputs": [
    {
     "name": "stdout",
     "output_type": "stream",
     "text": [
      "--- NODO: Planner ---\n",
      "Piano generato: [{'tool_name': 'crea_nuovo_documento', 'args': {'testo_grezzo': 'La loss function è un indicatore chiave.', 'titolo': None}}, {'tool_name': 'modifica_documento', 'args': {'comando': \"aggiungi la frase 'Viene usata per ottimizzare il modello'\", 'documento_attuale': 'La loss function è un indicatore chiave.'}}, {'tool_name': 'salva_file', 'args': {'filename': 'test.md'}}]\n",
      "--- NODO: Executor ---\n",
      "Esecuzione task: crea_nuovo_documento con argomenti: {'testo_grezzo': 'La loss function è un indicatore chiave.', 'titolo': None}\n",
      "# La loss function\n",
      "\n",
      "La loss function è un indicatore chiave.\n",
      "--- NODO: Executor ---\n",
      "Esecuzione task: modifica_documento con argomenti: {'comando': \"aggiungi la frase 'Viene usata per ottimizzare il modello'\", 'documento_attuale': 'La loss function è un indicatore chiave.'}\n",
      "# La loss function\n",
      "\n",
      "La loss function è un indicatore chiave. Viene usata per ottimizzare il modello.\n",
      "--- NODO: Executor ---\n",
      "Esecuzione task: salva_file con argomenti: {'filename': 'test.md'}\n",
      "File 'test.md' salvato con successo.\n"
     ]
    }
   ],
   "source": [
    "manager.run(comando_utente)"
   ]
  },
  {
   "cell_type": "code",
   "execution_count": 6,
   "id": "4cd31fb1",
   "metadata": {},
   "outputs": [
    {
     "data": {
      "text/plain": [
       "'# La loss function\\n\\nLa loss function è un indicatore chiave. Viene usata per ottimizzare il modello.'"
      ]
     },
     "execution_count": 6,
     "metadata": {},
     "output_type": "execute_result"
    }
   ],
   "source": [
    "manager.get_report()"
   ]
  },
  {
   "cell_type": "code",
   "execution_count": null,
   "id": "49584824",
   "metadata": {},
   "outputs": [],
   "source": []
  }
 ],
 "metadata": {
  "kernelspec": {
   "display_name": "ai-report-manager-5wJZIrO_-py3.12",
   "language": "python",
   "name": "python3"
  },
  "language_info": {
   "codemirror_mode": {
    "name": "ipython",
    "version": 3
   },
   "file_extension": ".py",
   "mimetype": "text/x-python",
   "name": "python",
   "nbconvert_exporter": "python",
   "pygments_lexer": "ipython3",
   "version": "3.12.5"
  }
 },
 "nbformat": 4,
 "nbformat_minor": 5
}
